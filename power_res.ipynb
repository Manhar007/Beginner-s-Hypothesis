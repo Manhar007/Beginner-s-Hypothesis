{
 "cells": [
  {
   "cell_type": "markdown",
   "metadata": {},
   "source": [
    "In this i applies resnet to pred power col (colour)"
   ]
  },
  {
   "cell_type": "code",
   "execution_count": 8,
   "metadata": {},
   "outputs": [],
   "source": [
    "#importing libs\n",
    "import os\n",
    "import pandas as pd\n",
    "import numpy as np\n",
    "import torch\n",
    "import torch.nn as nn\n",
    "import torch.optim as optim\n",
    "from torch.utils.data import Dataset, DataLoader\n",
    "from sklearn.model_selection import train_test_split\n",
    "import cv2\n",
    "from torchvision import transforms\n",
    "from torchvision.models import resnet18"
   ]
  },
  {
   "cell_type": "code",
   "execution_count": 9,
   "metadata": {},
   "outputs": [
    {
     "name": "stdout",
     "output_type": "stream",
     "text": [
      "   video_id element  motion power  speed          video_summary\n",
      "0         1    Erde  linear   rot    9.6     (3.8147, 31.94809)\n",
      "1         2   Feuer     shm  grin    9.6   (26.70288, -4.29153)\n",
      "2         3   Feuer  random  geld    9.6      (3.8147, 8.58307)\n",
      "3         4    Erde  zigzag  lila    6.9  (-24.79553, -0.95367)\n",
      "4         5    Erde  linear  lila    9.6    (7.62939, 22.88818)\n"
     ]
    }
   ],
   "source": [
    "\n",
    "# Load the training data (You might have to change the file path based on how you're working)\n",
    "train_df = pd.read_csv('BH25/Training_Data/train.csv')\n",
    "\n",
    "print(train_df.head())"
   ]
  },
  {
   "cell_type": "code",
   "execution_count": 10,
   "metadata": {},
   "outputs": [
    {
     "name": "stdout",
     "output_type": "stream",
     "text": [
      "['rot' 'grun' 'gelb' 'lila' 'blau']\n"
     ]
    }
   ],
   "source": [
    "#applying filter to the power col as it has noice in the form of spelling mis\n",
    "replacements = {\n",
    "    'slau': 'blau', 'baau': 'blau', 'blru': 'blau', 'plau' : 'blau', 'btau' : 'blau',\n",
    "    'trun' : 'grun', 'brun' : 'grun', 'gaun': 'grun', 'grin':'grun', 'grus' : 'grun',\n",
    "    'helb' : 'gelb', 'gela' : 'gelb', 'geld' : 'gelb', 'gele' : 'gelb', 'gelt' : 'gelb',\n",
    "    'rut' : 'rot', 'got' : 'rot', 'not' : 'rot', 'rat' : 'rot', 'rod' : 'rot',\n",
    "    'lela' : 'lila', 'liga' : 'lila', 'lili' : 'lila', 'lisa' : 'lila', 'lula' : 'lila'\n",
    "}\n",
    "train_df['power'] = train_df['power'].replace(replacements)\n",
    "unique_elements2 =train_df['power'].unique()\n",
    "print(unique_elements2)"
   ]
  },
  {
   "cell_type": "code",
   "execution_count": 11,
   "metadata": {},
   "outputs": [],
   "source": [
    "# Custom Dataset for Color Feature Extraction\n",
    "#here i used only one frame to do so as i have to find colour so it can be found from one frame only\n",
    "class ColorDataset(Dataset):\n",
    "    def __init__(self, folder_path, labels_df, transform=None):\n",
    "        self.folder_path = folder_path\n",
    "        self.labels = labels_df\n",
    "        self.transform = transform\n",
    "        \n",
    "        # Map color labels to integers\n",
    "        self.color_map = {\n",
    "            'rot': 0,  # some color\n",
    "            'blau': 1, # Some color\n",
    "            'lila': 2, # Some color\n",
    "            'grun': 3, # Some color\n",
    "            'gelb': 4  # Some color\n",
    "        }\n",
    "\n",
    "        # Map 'power' to integers\n",
    "        self.labels['color'] = self.labels['power'].map(self.color_map)\n",
    "\n",
    "    def __len__(self):\n",
    "        return len(self.labels)\n",
    "\n",
    "    def __getitem__(self, idx):\n",
    "        video_id = self.labels.iloc[idx]['video_id']\n",
    "        video_path = os.path.join(self.folder_path, f\"{video_id}.mp4\")\n",
    "        \n",
    "        # Read the first frame of the video\n",
    "        cap = cv2.VideoCapture(video_path)\n",
    "        ret, frame = cap.read()\n",
    "        cap.release()\n",
    "\n",
    "        if not ret:\n",
    "            raise RuntimeError(f\"Could not read video: {video_path}\")\n",
    "\n",
    "        frame = cv2.cvtColor(frame, cv2.COLOR_BGR2RGB) \n",
    "        frame = cv2.resize(frame, (64, 64)) \n",
    "\n",
    "        if self.transform:\n",
    "            frame = self.transform(frame)\n",
    "\n",
    "        label = self.labels.iloc[idx]['color']\n",
    "        return frame, label\n"
   ]
  },
  {
   "cell_type": "code",
   "execution_count": 12,
   "metadata": {},
   "outputs": [],
   "source": [
    "# Define transformations\n",
    "transform = transforms.Compose([\n",
    "    transforms.ToTensor(),\n",
    "    transforms.Normalize(mean=[0.5, 0.5, 0.5], std=[0.5, 0.5, 0.5])\n",
    "])\n",
    "\n",
    "# Load data and split\n",
    "folder_path = 'BH25/Training_Data/Train_Videos'\n",
    "dataset = ColorDataset(folder_path, train_df, transform=transform)\n",
    "train_dataset, test_dataset = train_test_split(dataset, test_size=0.2, random_state=42)\n",
    "train_dataset = torch.utils.data.Subset(train_dataset, list(range(min(len(train_dataset), 1000))))\n",
    "train_loader = DataLoader(train_dataset, batch_size=32, shuffle=True)\n",
    "test_loader = DataLoader(test_dataset, batch_size=32, shuffle=False)"
   ]
  },
  {
   "cell_type": "code",
   "execution_count": 13,
   "metadata": {},
   "outputs": [
    {
     "name": "stdout",
     "output_type": "stream",
     "text": [
      "Epoch 1/30, Loss: 0.5860\n",
      "Epoch 2/30, Loss: 0.0288\n",
      "Epoch 3/30, Loss: 0.0227\n",
      "Epoch 4/30, Loss: 0.0090\n",
      "Epoch 5/30, Loss: 0.0132\n",
      "Epoch 6/30, Loss: 0.0097\n",
      "Epoch 7/30, Loss: 0.0115\n",
      "Epoch 8/30, Loss: 0.0135\n",
      "Epoch 9/30, Loss: 0.0108\n",
      "Epoch 10/30, Loss: 0.0230\n",
      "Epoch 11/30, Loss: 0.0265\n",
      "Epoch 12/30, Loss: 0.0083\n",
      "Epoch 13/30, Loss: 0.0020\n",
      "Epoch 14/30, Loss: 0.0113\n",
      "Epoch 15/30, Loss: 0.0204\n",
      "Epoch 16/30, Loss: 0.0313\n",
      "Epoch 17/30, Loss: 0.0144\n",
      "Epoch 18/30, Loss: 0.0301\n",
      "Epoch 19/30, Loss: 0.0205\n",
      "Epoch 20/30, Loss: 0.0079\n",
      "Epoch 21/30, Loss: 0.0014\n",
      "Epoch 22/30, Loss: 0.0021\n",
      "Epoch 23/30, Loss: 0.0204\n",
      "Epoch 24/30, Loss: 0.0136\n",
      "Epoch 25/30, Loss: 0.0265\n",
      "Epoch 26/30, Loss: 0.0053\n",
      "Epoch 27/30, Loss: 0.0016\n",
      "Epoch 28/30, Loss: 0.0010\n",
      "Epoch 29/30, Loss: 0.0020\n",
      "Epoch 30/30, Loss: 0.0009\n"
     ]
    }
   ],
   "source": [
    "# Model definition\n",
    "class PretrainedColorClassifier(nn.Module):\n",
    "    def __init__(self, num_classes=5):\n",
    "        super(PretrainedColorClassifier, self).__init__()\n",
    "        self.model = resnet18(weights=\"IMAGENET1K_V1\")\n",
    "        self.model.fc = nn.Linear(self.model.fc.in_features, num_classes)\n",
    "\n",
    "    def forward(self, x):\n",
    "        return self.model(x)\n",
    "\n",
    "# Training\n",
    "device = torch.device('cuda' if torch.cuda.is_available() else 'cpu')\n",
    "model = PretrainedColorClassifier(num_classes=5).to(device)\n",
    "loss_fn = nn.CrossEntropyLoss()\n",
    "optimizer = optim.Adam(model.parameters(), lr=0.0001)\n",
    "num_epochs = 30\n",
    "\n",
    "for epoch in range(num_epochs):\n",
    "    model.train()\n",
    "    running_loss = 0.0\n",
    "    for frames, labels in train_loader:\n",
    "        frames, labels = frames.to(device), labels.to(device)\n",
    "        outputs = model(frames)\n",
    "        loss = loss_fn(outputs, labels)\n",
    "        optimizer.zero_grad()\n",
    "        loss.backward()\n",
    "        optimizer.step()\n",
    "        running_loss += loss.item()\n",
    "    avg_loss = running_loss / len(train_loader)\n",
    "    print(f\"Epoch {epoch + 1}/{num_epochs}, Loss: {avg_loss:.4f}\")\n"
   ]
  },
  {
   "cell_type": "code",
   "execution_count": 15,
   "metadata": {},
   "outputs": [
    {
     "name": "stdout",
     "output_type": "stream",
     "text": [
      "Accuracy on the validation set: 100.00%\n"
     ]
    }
   ],
   "source": [
    "# Evaluation\n",
    "model.eval()\n",
    "correct, total = 0, 0\n",
    "with torch.no_grad():\n",
    "    for frames, labels in test_loader:\n",
    "        frames, labels = frames.to(device), labels.to(device)\n",
    "        outputs = model(frames)\n",
    "        _, predicted = torch.max(outputs.data, 1)\n",
    "        total += labels.size(0)\n",
    "        correct += (predicted == labels).sum().item()\n",
    "\n",
    "print(f'Accuracy on the validation set: {100 * correct / total:.2f}%')"
   ]
  },
  {
   "cell_type": "code",
   "execution_count": 16,
   "metadata": {},
   "outputs": [
    {
     "name": "stdout",
     "output_type": "stream",
     "text": [
      "Predictions saved to predicted_power.csv\n"
     ]
    }
   ],
   "source": [
    "import os\n",
    "import cv2\n",
    "import torch\n",
    "import pandas as pd\n",
    "from torch.utils.data import Dataset, DataLoader\n",
    "from torchvision import transforms\n",
    "\n",
    "# Custom Dataset for loading new videos\n",
    "class NewVideoDataset(Dataset):\n",
    "    def __init__(self, folder_path, transform=None):\n",
    "        self.folder_path = folder_path\n",
    "        self.video_files = [f for f in os.listdir(folder_path) if f.endswith('.mp4')]\n",
    "        self.transform = transform\n",
    "\n",
    "    def __len__(self):\n",
    "        return len(self.video_files)\n",
    "\n",
    "    def __getitem__(self, idx):\n",
    "        video_id = self.video_files[idx].split('.')[0]\n",
    "        video_path = os.path.join(self.folder_path, self.video_files[idx])\n",
    "        \n",
    "        # Read the first frame of the video\n",
    "        cap = cv2.VideoCapture(video_path)\n",
    "        ret, frame = cap.read()\n",
    "        cap.release()\n",
    "\n",
    "        if not ret:\n",
    "            raise RuntimeError(f\"Could not read video: {video_path}\")\n",
    "\n",
    "        frame = cv2.cvtColor(frame, cv2.COLOR_BGR2RGB)  # Convert to RGB\n",
    "        frame = cv2.resize(frame, (64, 64))  # Resize to 64x64\n",
    "\n",
    "        if self.transform:\n",
    "            frame = self.transform(frame)\n",
    "\n",
    "        return video_id, frame\n",
    "\n",
    "# Transformations\n",
    "transform = transforms.Compose([\n",
    "    transforms.ToTensor(),\n",
    "    transforms.Normalize(mean=[0.5, 0.5, 0.5], std=[0.5, 0.5, 0.5])  # Normalize to [-1, 1]\n",
    "])\n",
    "\n",
    "# Define the new video folder path\n",
    "new_videos_folder_path = 'BH25/Testing_Data'\n",
    "\n",
    "# Load new video dataset\n",
    "new_video_dataset = NewVideoDataset(new_videos_folder_path, transform=transform)\n",
    "new_video_loader = DataLoader(new_video_dataset, batch_size=1, shuffle=False)\n",
    "\n",
    "# Ensure the model is in evaluation mode\n",
    "model.eval()\n",
    "\n",
    "# Dictionary to store video IDs and their predicted powers\n",
    "predictions = {'video_id': [], 'power': []}\n",
    "\n",
    "# Map integer labels to power categories\n",
    "power_map_rev = {0: 'rot', 1: 'blau', 2: 'lila', 3: 'grun', 4: 'gelb'}\n",
    "\n",
    "# Process new videos and make predictions\n",
    "with torch.no_grad():\n",
    "    for video_id, frame in new_video_loader:\n",
    "        frame = frame.to(device)\n",
    "        outputs = model(frame)\n",
    "        _, predicted = torch.max(outputs, 1)\n",
    "        power = power_map_rev[predicted.item()]\n",
    "\n",
    "        predictions['video_id'].append(video_id[0])\n",
    "        predictions['power'].append(power)\n",
    "\n",
    "# Save predictions to CSV\n",
    "predictions_df = pd.DataFrame(predictions)\n",
    "predictions_df.to_csv('predicted_power.csv', index=False)\n",
    "\n",
    "print(\"Predictions saved to predicted_power.csv\")\n"
   ]
  }
 ],
 "metadata": {
  "kernelspec": {
   "display_name": "base",
   "language": "python",
   "name": "python3"
  },
  "language_info": {
   "codemirror_mode": {
    "name": "ipython",
    "version": 3
   },
   "file_extension": ".py",
   "mimetype": "text/x-python",
   "name": "python",
   "nbconvert_exporter": "python",
   "pygments_lexer": "ipython3",
   "version": "3.12.7"
  }
 },
 "nbformat": 4,
 "nbformat_minor": 2
}
